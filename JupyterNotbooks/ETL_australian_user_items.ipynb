{
 "cells": [
  {
   "cell_type": "markdown",
   "metadata": {},
   "source": [
    "# Proceso de ETL del archivo 'australian_user_items'"
   ]
  },
  {
   "cell_type": "markdown",
   "metadata": {},
   "source": [
    "## Importación de las librerias necesarias"
   ]
  },
  {
   "cell_type": "code",
   "execution_count": 4,
   "metadata": {},
   "outputs": [
    {
     "name": "stdout",
     "output_type": "stream",
     "text": [
      "Requirement already satisfied: utils in c:\\users\\usuario\\anaconda3\\lib\\site-packages (1.0.1)Note: you may need to restart the kernel to use updated packages.\n",
      "\n",
      "The autoreload extension is already loaded. To reload it, use:\n",
      "  %reload_ext autoreload\n"
     ]
    }
   ],
   "source": [
    "# Importacion de las librerias necesarias\n",
    "import pandas as pd\n",
    "import ast\n",
    "\n",
    "%pip install utils\n",
    "%load_ext autoreload\n",
    "%autoreload 2\n",
    "import utils\n",
    "\n",
    "import warnings\n",
    "warnings.filterwarnings(\"ignore\")"
   ]
  },
  {
   "cell_type": "markdown",
   "metadata": {},
   "source": [
    "## Extracción de datos del archivo australian_user_items.json"
   ]
  },
  {
   "cell_type": "code",
   "execution_count": null,
   "metadata": {},
   "outputs": [],
   "source": [
    "# Abrimos del archivo '../Datasets/australian_users_items.json'\n",
    "reviews = [] \n",
    "with open('../Datasets/australian_users_items.json', 'r', encoding='utf-8') as f:\n",
    "    for line in f:\n",
    "        reviews.append(ast.literal_eval(line))\n",
    "\n",
    "\n",
    "# Creamos el DataFrame con la data de reviews\n",
    "df_user_items = pd.DataFrame(reviews)\n",
    "# Desplegamos el df_user_items\n",
    "df_user__items"
   ]
  },
  {
   "cell_type": "code",
   "execution_count": null,
   "metadata": {},
   "outputs": [],
   "source": [
    "df_user_items\n"
   ]
  },
  {
   "cell_type": "code",
   "execution_count": null,
   "metadata": {},
   "outputs": [],
   "source": [
    "# Eliminamos columnas innecesarias\n",
    "df_user_items = df_user_items.drop('user_url', axis=1)\n",
    "df_user_items = df_user_items.drop('items_count', axis=1)\n",
    "df_user_items"
   ]
  },
  {
   "cell_type": "code",
   "execution_count": 11,
   "metadata": {},
   "outputs": [
    {
     "name": "stdout",
     "output_type": "stream",
     "text": [
      "<class 'pandas.core.frame.DataFrame'>\n",
      "RangeIndex: 88310 entries, 0 to 88309\n",
      "Data columns (total 3 columns):\n",
      " #   Column    Non-Null Count  Dtype \n",
      "---  ------    --------------  ----- \n",
      " 0   user_id   88310 non-null  object\n",
      " 1   steam_id  88310 non-null  object\n",
      " 2   items     88310 non-null  object\n",
      "dtypes: object(3)\n",
      "memory usage: 2.0+ MB\n"
     ]
    }
   ],
   "source": [
    "# Desplegar informacion del DataFrame\n",
    "df_user_items.info()"
   ]
  },
  {
   "cell_type": "code",
   "execution_count": null,
   "metadata": {},
   "outputs": [],
   "source": [
    "# Verificar el contenido de la columna 'items'\n",
    "print(df_user_items['items'][0])"
   ]
  },
  {
   "cell_type": "code",
   "execution_count": 12,
   "metadata": {},
   "outputs": [
    {
     "data": {
      "text/html": [
       "<div>\n",
       "<style scoped>\n",
       "    .dataframe tbody tr th:only-of-type {\n",
       "        vertical-align: middle;\n",
       "    }\n",
       "\n",
       "    .dataframe tbody tr th {\n",
       "        vertical-align: top;\n",
       "    }\n",
       "\n",
       "    .dataframe thead th {\n",
       "        text-align: right;\n",
       "    }\n",
       "</style>\n",
       "<table border=\"1\" class=\"dataframe\">\n",
       "  <thead>\n",
       "    <tr style=\"text-align: right;\">\n",
       "      <th></th>\n",
       "      <th>user_id</th>\n",
       "      <th>steam_id</th>\n",
       "      <th>items</th>\n",
       "    </tr>\n",
       "  </thead>\n",
       "  <tbody>\n",
       "    <tr>\n",
       "      <th>0</th>\n",
       "      <td>76561197970982479</td>\n",
       "      <td>76561197970982479</td>\n",
       "      <td>[{'item_id': '10', 'item_name': 'Counter-Strik...</td>\n",
       "    </tr>\n",
       "    <tr>\n",
       "      <th>1</th>\n",
       "      <td>js41637</td>\n",
       "      <td>76561198035864385</td>\n",
       "      <td>[{'item_id': '10', 'item_name': 'Counter-Strik...</td>\n",
       "    </tr>\n",
       "    <tr>\n",
       "      <th>2</th>\n",
       "      <td>evcentric</td>\n",
       "      <td>76561198007712555</td>\n",
       "      <td>[{'item_id': '1200', 'item_name': 'Red Orchest...</td>\n",
       "    </tr>\n",
       "    <tr>\n",
       "      <th>3</th>\n",
       "      <td>Riot-Punch</td>\n",
       "      <td>76561197963445855</td>\n",
       "      <td>[{'item_id': '10', 'item_name': 'Counter-Strik...</td>\n",
       "    </tr>\n",
       "    <tr>\n",
       "      <th>4</th>\n",
       "      <td>doctr</td>\n",
       "      <td>76561198002099482</td>\n",
       "      <td>[{'item_id': '300', 'item_name': 'Day of Defea...</td>\n",
       "    </tr>\n",
       "    <tr>\n",
       "      <th>...</th>\n",
       "      <td>...</td>\n",
       "      <td>...</td>\n",
       "      <td>...</td>\n",
       "    </tr>\n",
       "    <tr>\n",
       "      <th>88305</th>\n",
       "      <td>76561198323066619</td>\n",
       "      <td>76561198323066619</td>\n",
       "      <td>[{'item_id': '413850', 'item_name': 'CS:GO Pla...</td>\n",
       "    </tr>\n",
       "    <tr>\n",
       "      <th>88306</th>\n",
       "      <td>76561198326700687</td>\n",
       "      <td>76561198326700687</td>\n",
       "      <td>[{'item_id': '11020', 'item_name': 'TrackMania...</td>\n",
       "    </tr>\n",
       "    <tr>\n",
       "      <th>88307</th>\n",
       "      <td>XxLaughingJackClown77xX</td>\n",
       "      <td>76561198328759259</td>\n",
       "      <td>[]</td>\n",
       "    </tr>\n",
       "    <tr>\n",
       "      <th>88308</th>\n",
       "      <td>76561198329548331</td>\n",
       "      <td>76561198329548331</td>\n",
       "      <td>[{'item_id': '304930', 'item_name': 'Unturned'...</td>\n",
       "    </tr>\n",
       "    <tr>\n",
       "      <th>88309</th>\n",
       "      <td>edward_tremethick</td>\n",
       "      <td>76561198331598578</td>\n",
       "      <td>[]</td>\n",
       "    </tr>\n",
       "  </tbody>\n",
       "</table>\n",
       "<p>88310 rows × 3 columns</p>\n",
       "</div>"
      ],
      "text/plain": [
       "                       user_id           steam_id  \\\n",
       "0            76561197970982479  76561197970982479   \n",
       "1                      js41637  76561198035864385   \n",
       "2                    evcentric  76561198007712555   \n",
       "3                   Riot-Punch  76561197963445855   \n",
       "4                        doctr  76561198002099482   \n",
       "...                        ...                ...   \n",
       "88305        76561198323066619  76561198323066619   \n",
       "88306        76561198326700687  76561198326700687   \n",
       "88307  XxLaughingJackClown77xX  76561198328759259   \n",
       "88308        76561198329548331  76561198329548331   \n",
       "88309        edward_tremethick  76561198331598578   \n",
       "\n",
       "                                                   items  \n",
       "0      [{'item_id': '10', 'item_name': 'Counter-Strik...  \n",
       "1      [{'item_id': '10', 'item_name': 'Counter-Strik...  \n",
       "2      [{'item_id': '1200', 'item_name': 'Red Orchest...  \n",
       "3      [{'item_id': '10', 'item_name': 'Counter-Strik...  \n",
       "4      [{'item_id': '300', 'item_name': 'Day of Defea...  \n",
       "...                                                  ...  \n",
       "88305  [{'item_id': '413850', 'item_name': 'CS:GO Pla...  \n",
       "88306  [{'item_id': '11020', 'item_name': 'TrackMania...  \n",
       "88307                                                 []  \n",
       "88308  [{'item_id': '304930', 'item_name': 'Unturned'...  \n",
       "88309                                                 []  \n",
       "\n",
       "[88310 rows x 3 columns]"
      ]
     },
     "execution_count": 12,
     "metadata": {},
     "output_type": "execute_result"
    }
   ],
   "source": [
    "df_user_items = df_user_items.dropna()\n",
    "df_user_items"
   ]
  },
  {
   "cell_type": "code",
   "execution_count": 13,
   "metadata": {},
   "outputs": [
    {
     "name": "stdout",
     "output_type": "stream",
     "text": [
      "[{'item_id': '10', 'item_name': 'Counter-Strike', 'playtime_forever': 6, 'playtime_2weeks': 0}, {'item_id': '20', 'item_name': 'Team Fortress Classic', 'playtime_forever': 0, 'playtime_2weeks': 0}, {'item_id': '30', 'item_name': 'Day of Defeat', 'playtime_forever': 7, 'playtime_2weeks': 0}, {'item_id': '40', 'item_name': 'Deathmatch Classic', 'playtime_forever': 0, 'playtime_2weeks': 0}, {'item_id': '50', 'item_name': 'Half-Life: Opposing Force', 'playtime_forever': 0, 'playtime_2weeks': 0}, {'item_id': '60', 'item_name': 'Ricochet', 'playtime_forever': 0, 'playtime_2weeks': 0}, {'item_id': '70', 'item_name': 'Half-Life', 'playtime_forever': 0, 'playtime_2weeks': 0}, {'item_id': '130', 'item_name': 'Half-Life: Blue Shift', 'playtime_forever': 0, 'playtime_2weeks': 0}, {'item_id': '300', 'item_name': 'Day of Defeat: Source', 'playtime_forever': 4733, 'playtime_2weeks': 0}, {'item_id': '240', 'item_name': 'Counter-Strike: Source', 'playtime_forever': 1853, 'playtime_2weeks': 0}, {'item_id': '3830', 'item_name': 'Psychonauts', 'playtime_forever': 333, 'playtime_2weeks': 0}, {'item_id': '2630', 'item_name': 'Call of Duty 2', 'playtime_forever': 75, 'playtime_2weeks': 0}, {'item_id': '3900', 'item_name': \"Sid Meier's Civilization IV\", 'playtime_forever': 338, 'playtime_2weeks': 0}, {'item_id': '34440', 'item_name': \"Sid Meier's Civilization IV\", 'playtime_forever': 0, 'playtime_2weeks': 0}, {'item_id': '3920', 'item_name': \"Sid Meier's Pirates!\", 'playtime_forever': 2, 'playtime_2weeks': 0}, {'item_id': '6400', 'item_name': 'Joint Task Force', 'playtime_forever': 286, 'playtime_2weeks': 0}, {'item_id': '6910', 'item_name': 'Deus Ex: Game of the Year Edition', 'playtime_forever': 2685, 'playtime_2weeks': 0}, {'item_id': '7670', 'item_name': 'BioShock', 'playtime_forever': 633, 'playtime_2weeks': 0}, {'item_id': '409710', 'item_name': 'BioShock Remastered', 'playtime_forever': 0, 'playtime_2weeks': 0}, {'item_id': '220', 'item_name': 'Half-Life 2', 'playtime_forever': 696, 'playtime_2weeks': 0}, {'item_id': '320', 'item_name': 'Half-Life 2: Deathmatch', 'playtime_forever': 0, 'playtime_2weeks': 0}, {'item_id': '340', 'item_name': 'Half-Life 2: Lost Coast', 'playtime_forever': 37, 'playtime_2weeks': 0}, {'item_id': '360', 'item_name': 'Half-Life Deathmatch: Source', 'playtime_forever': 0, 'playtime_2weeks': 0}, {'item_id': '380', 'item_name': 'Half-Life 2: Episode One', 'playtime_forever': 168, 'playtime_2weeks': 0}, {'item_id': '400', 'item_name': 'Portal', 'playtime_forever': 173, 'playtime_2weeks': 0}, {'item_id': '420', 'item_name': 'Half-Life 2: Episode Two', 'playtime_forever': 323, 'playtime_2weeks': 0}, {'item_id': '9340', 'item_name': 'Company of Heroes: Opposing Fronts', 'playtime_forever': 692, 'playtime_2weeks': 0}, {'item_id': '228200', 'item_name': 'Company of Heroes (New Steam Version)', 'playtime_forever': 0, 'playtime_2weeks': 0}, {'item_id': '11450', 'item_name': 'Overlord', 'playtime_forever': 0, 'playtime_2weeks': 0}, {'item_id': '7940', 'item_name': 'Call of Duty 4: Modern Warfare', 'playtime_forever': 1185, 'playtime_2weeks': 0}, {'item_id': '4700', 'item_name': 'Medieval II: Total War', 'playtime_forever': 477, 'playtime_2weeks': 0}, {'item_id': '12900', 'item_name': 'Audiosurf', 'playtime_forever': 115, 'playtime_2weeks': 0}, {'item_id': '13250', 'item_name': 'Unreal Gold', 'playtime_forever': 0, 'playtime_2weeks': 0}, {'item_id': '16100', 'item_name': 'Virtual Villagers: A New Home', 'playtime_forever': 0, 'playtime_2weeks': 0}, {'item_id': '15700', 'item_name': \"Oddworld: Abe's Oddysee\", 'playtime_forever': 28, 'playtime_2weeks': 0}, {'item_id': '15710', 'item_name': \"Oddworld: Abe's Exoddus\", 'playtime_forever': 0, 'playtime_2weeks': 0}, {'item_id': '17330', 'item_name': 'Crysis Warhead', 'playtime_forever': 31, 'playtime_2weeks': 0}, {'item_id': '17340', 'item_name': 'Crysis Wars', 'playtime_forever': 0, 'playtime_2weeks': 0}, {'item_id': '22000', 'item_name': 'World of Goo', 'playtime_forever': 195, 'playtime_2weeks': 0}, {'item_id': '500', 'item_name': 'Left 4 Dead', 'playtime_forever': 513, 'playtime_2weeks': 0}, {'item_id': '4560', 'item_name': 'Company of Heroes', 'playtime_forever': 1061, 'playtime_2weeks': 0}, {'item_id': '17460', 'item_name': 'Mass Effect', 'playtime_forever': 1613, 'playtime_2weeks': 0}, {'item_id': '10500', 'item_name': 'Empire: Total War', 'playtime_forever': 186, 'playtime_2weeks': 0}, {'item_id': '24740', 'item_name': 'Burnout Paradise: The Ultimate Box', 'playtime_forever': 0, 'playtime_2weeks': 0}, {'item_id': '22200', 'item_name': 'Zeno Clash', 'playtime_forever': 271, 'playtime_2weeks': 0}, {'item_id': '26800', 'item_name': 'Braid', 'playtime_forever': 445, 'playtime_2weeks': 0}, {'item_id': '1250', 'item_name': 'Killing Floor', 'playtime_forever': 10006, 'playtime_2weeks': 0}, {'item_id': '35420', 'item_name': 'Killing Floor Mod: Defence Alliance 2', 'playtime_forever': 0, 'playtime_2weeks': 0}, {'item_id': '3590', 'item_name': 'Plants vs. Zombies: Game of the Year', 'playtime_forever': 4413, 'playtime_2weeks': 0}, {'item_id': '8880', 'item_name': 'Freedom Force', 'playtime_forever': 0, 'playtime_2weeks': 0}, {'item_id': '8890', 'item_name': 'Freedom Force vs. the 3rd Reich', 'playtime_forever': 0, 'playtime_2weeks': 0}, {'item_id': '23120', 'item_name': 'Droplitz', 'playtime_forever': 53, 'playtime_2weeks': 0}, {'item_id': '35700', 'item_name': 'Trine', 'playtime_forever': 199, 'playtime_2weeks': 0}, {'item_id': '10140', 'item_name': '3D Ultra Minigolf Adventures Deluxe', 'playtime_forever': 25, 'playtime_2weeks': 0}, {'item_id': '35010', 'item_name': 'Batman: Arkham Asylum', 'playtime_forever': 570, 'playtime_2weeks': 0}, {'item_id': '35140', 'item_name': 'Batman: Arkham Asylum GOTY Edition', 'playtime_forever': 0, 'playtime_2weeks': 0}, {'item_id': '29180', 'item_name': 'Osmos', 'playtime_forever': 940, 'playtime_2weeks': 0}, {'item_id': '15520', 'item_name': 'AaAaAA!!! - A Reckless Disregard for Gravity', 'playtime_forever': 110, 'playtime_2weeks': 0}, {'item_id': '32370', 'item_name': 'STAR WARS™: Knights of the Old Republic™', 'playtime_forever': 5, 'playtime_2weeks': 0}, {'item_id': '37700', 'item_name': 'Darkest of Days', 'playtime_forever': 782, 'playtime_2weeks': 0}, {'item_id': '6020', 'item_name': 'STAR WARS™ Jedi Knight: Jedi Academy™', 'playtime_forever': 77, 'playtime_2weeks': 0}, {'item_id': '24860', 'item_name': 'Battlefield 2', 'playtime_forever': 437, 'playtime_2weeks': 0}, {'item_id': '39530', 'item_name': 'Painkiller: Black Edition', 'playtime_forever': 503, 'playtime_2weeks': 0}, {'item_id': '550', 'item_name': 'Left 4 Dead 2', 'playtime_forever': 1474, 'playtime_2weeks': 0}, {'item_id': '223530', 'item_name': 'Left 4 Dead 2 Beta', 'playtime_forever': 0, 'playtime_2weeks': 0}, {'item_id': '8980', 'item_name': 'Borderlands', 'playtime_forever': 3061, 'playtime_2weeks': 0}, {'item_id': '41500', 'item_name': 'Torchlight', 'playtime_forever': 536, 'playtime_2weeks': 0}, {'item_id': '20900', 'item_name': 'The Witcher: Enhanced Edition', 'playtime_forever': 139, 'playtime_2weeks': 0}, {'item_id': '10180', 'item_name': 'Call of Duty: Modern Warfare 2', 'playtime_forever': 1886, 'playtime_2weeks': 0}, {'item_id': '10190', 'item_name': 'Call of Duty: Modern Warfare 2 - Multiplayer', 'playtime_forever': 1784, 'playtime_2weeks': 0}, {'item_id': '17450', 'item_name': 'Dragon Age: Origins', 'playtime_forever': 4431, 'playtime_2weeks': 0}, {'item_id': '3170', 'item_name': \"King's Bounty: Armored Princess\", 'playtime_forever': 1021, 'playtime_2weeks': 0}, {'item_id': '25900', 'item_name': \"King's Bounty: The Legend\", 'playtime_forever': 1389, 'playtime_2weeks': 0}, {'item_id': '31410', 'item_name': 'Zombie Driver', 'playtime_forever': 95, 'playtime_2weeks': 0}, {'item_id': '24980', 'item_name': 'Mass Effect 2', 'playtime_forever': 5001, 'playtime_2weeks': 0}, {'item_id': '8850', 'item_name': 'BioShock 2', 'playtime_forever': 1504, 'playtime_2weeks': 0}, {'item_id': '409720', 'item_name': 'BioShock 2 Remastered', 'playtime_forever': 0, 'playtime_2weeks': 0}, {'item_id': '46000', 'item_name': 'Bob Came in Pieces', 'playtime_forever': 11, 'playtime_2weeks': 0}, {'item_id': '33230', 'item_name': \"Assassin's Creed II\", 'playtime_forever': 1636, 'playtime_2weeks': 0}, {'item_id': '20820', 'item_name': 'Shatter', 'playtime_forever': 46, 'playtime_2weeks': 0}, {'item_id': '47700', 'item_name': 'Command and Conquer 4: Tiberian Twilight', 'playtime_forever': 85, 'playtime_2weeks': 0}, {'item_id': '24960', 'item_name': 'Battlefield: Bad Company 2', 'playtime_forever': 5716, 'playtime_2weeks': 0}, {'item_id': '43110', 'item_name': 'Metro 2033', 'playtime_forever': 834, 'playtime_2weeks': 0}, {'item_id': '8190', 'item_name': 'Just Cause 2', 'playtime_forever': 3083, 'playtime_2weeks': 0}, {'item_id': '49600', 'item_name': 'Beat Hazard', 'playtime_forever': 127, 'playtime_2weeks': 0}, {'item_id': '31220', 'item_name': 'Sam & Max 301: The Penal Zone', 'playtime_forever': 71, 'playtime_2weeks': 0}, {'item_id': '31230', 'item_name': 'Sam & Max 302: The Tomb of Sammun-Mak', 'playtime_forever': 0, 'playtime_2weeks': 0}, {'item_id': '31240', 'item_name': \"Sam & Max 303: They Stole Max's Brain!\", 'playtime_forever': 0, 'playtime_2weeks': 0}, {'item_id': '31250', 'item_name': 'Sam & Max 304: Beyond the Alley of the Dolls', 'playtime_forever': 0, 'playtime_2weeks': 0}, {'item_id': '31260', 'item_name': 'Sam & Max 305: The City that Dares not Sleep', 'playtime_forever': 0, 'playtime_2weeks': 0}, {'item_id': '21090', 'item_name': 'F.E.A.R.', 'playtime_forever': 585, 'playtime_2weeks': 0}, {'item_id': '21110', 'item_name': 'F.E.A.R.: Extraction Point', 'playtime_forever': 146, 'playtime_2weeks': 0}, {'item_id': '21120', 'item_name': 'F.E.A.R.: Perseus Mandate', 'playtime_forever': 0, 'playtime_2weeks': 0}, {'item_id': '49400', 'item_name': 'Magic: The Gathering - Duels of the Planeswalkers', 'playtime_forever': 32, 'playtime_2weeks': 0}, {'item_id': '33910', 'item_name': 'Arma 2', 'playtime_forever': 3, 'playtime_2weeks': 0}, {'item_id': '33930', 'item_name': 'Arma 2: Operation Arrowhead', 'playtime_forever': 3, 'playtime_2weeks': 0}, {'item_id': '219540', 'item_name': 'Arma 2: Operation Arrowhead Beta (Obsolete)', 'playtime_forever': 0, 'playtime_2weeks': 0}, {'item_id': '17410', 'item_name': \"Mirror's Edge\", 'playtime_forever': 0, 'playtime_2weeks': 0}, {'item_id': '205790', 'item_name': 'Dota 2 Test', 'playtime_forever': 0, 'playtime_2weeks': 0}, {'item_id': '50130', 'item_name': 'Mafia II', 'playtime_forever': 707, 'playtime_2weeks': 0}, {'item_id': '62100', 'item_name': 'Chime', 'playtime_forever': 50, 'playtime_2weeks': 0}, {'item_id': '31280', 'item_name': 'Poker Night at the Inventory', 'playtime_forever': 206, 'playtime_2weeks': 0}, {'item_id': '57300', 'item_name': 'Amnesia: The Dark Descent', 'playtime_forever': 12, 'playtime_2weeks': 0}, {'item_id': '21970', 'item_name': 'R.U.S.E', 'playtime_forever': 64, 'playtime_2weeks': 0}, {'item_id': '8930', 'item_name': \"Sid Meier's Civilization V\", 'playtime_forever': 10345, 'playtime_2weeks': 0}, {'item_id': '41000', 'item_name': 'Serious Sam HD: The First Encounter', 'playtime_forever': 369, 'playtime_2weeks': 0}, {'item_id': '41050', 'item_name': 'Serious Sam Classic: The First Encounter', 'playtime_forever': 76, 'playtime_2weeks': 0}, {'item_id': '41060', 'item_name': 'Serious Sam Classic: The Second Encounter', 'playtime_forever': 0, 'playtime_2weeks': 0}, {'item_id': '227780', 'item_name': 'Serious Sam Classics: Revolution', 'playtime_forever': 0, 'playtime_2weeks': 0}, {'item_id': '18040', 'item_name': 'DeathSpank', 'playtime_forever': 594, 'playtime_2weeks': 0}, {'item_id': '22380', 'item_name': 'Fallout: New Vegas', 'playtime_forever': 43, 'playtime_2weeks': 0}, {'item_id': '42700', 'item_name': 'Call of Duty: Black Ops', 'playtime_forever': 966, 'playtime_2weeks': 0}, {'item_id': '42710', 'item_name': 'Call of Duty: Black Ops - Multiplayer', 'playtime_forever': 2452, 'playtime_2weeks': 0}, {'item_id': '62000', 'item_name': 'Flight Control HD', 'playtime_forever': 25, 'playtime_2weeks': 0}, {'item_id': '40800', 'item_name': 'Super Meat Boy', 'playtime_forever': 119, 'playtime_2weeks': 0}, {'item_id': '9500', 'item_name': 'Gish', 'playtime_forever': 6, 'playtime_2weeks': 0}, {'item_id': '18700', 'item_name': 'And Yet It Moves', 'playtime_forever': 0, 'playtime_2weeks': 0}, {'item_id': '31270', 'item_name': 'Puzzle Agent', 'playtime_forever': 0, 'playtime_2weeks': 0}, {'item_id': '58200', 'item_name': 'Jolly Rover', 'playtime_forever': 0, 'playtime_2weeks': 0}, {'item_id': '70400', 'item_name': \"Recettear: An Item Shop's Tale\", 'playtime_forever': 537, 'playtime_2weeks': 0}, {'item_id': '41300', 'item_name': 'Altitude', 'playtime_forever': 50, 'playtime_2weeks': 0}, {'item_id': '41800', 'item_name': 'Gratuitous Space Battles', 'playtime_forever': 149, 'playtime_2weeks': 0}, {'item_id': '42500', 'item_name': 'DogFighter', 'playtime_forever': 0, 'playtime_2weeks': 0}, {'item_id': '49900', 'item_name': 'Plain Sight', 'playtime_forever': 23, 'playtime_2weeks': 0}, {'item_id': '55000', 'item_name': 'Flotilla', 'playtime_forever': 0, 'playtime_2weeks': 0}, {'item_id': '34330', 'item_name': 'Total War: SHOGUN 2', 'playtime_forever': 1538, 'playtime_2weeks': 0}, {'item_id': '63200', 'item_name': 'Monday Night Combat', 'playtime_forever': 573, 'playtime_2weeks': 0}, {'item_id': '99810', 'item_name': 'Bulletstorm', 'playtime_forever': 2, 'playtime_2weeks': 0}, {'item_id': '620', 'item_name': 'Portal 2', 'playtime_forever': 887, 'playtime_2weeks': 0}, {'item_id': '42910', 'item_name': 'Magicka', 'playtime_forever': 588, 'playtime_2weeks': 0}, {'item_id': '15500', 'item_name': 'The Wonderful End of the World', 'playtime_forever': 0, 'playtime_2weeks': 0}, {'item_id': '15540', 'item_name': '1... 2... 3... KICK IT! (Drop That Beat Like an Ugly Baby)', 'playtime_forever': 4, 'playtime_2weeks': 0}, {'item_id': '18500', 'item_name': 'Defense Grid: The Awakening', 'playtime_forever': 126, 'playtime_2weeks': 0}, {'item_id': '26500', 'item_name': 'Cogs', 'playtime_forever': 0, 'playtime_2weeks': 0}, {'item_id': '35460', 'item_name': 'The Ball', 'playtime_forever': 0, 'playtime_2weeks': 0}, {'item_id': '38700', 'item_name': 'Toki Tori', 'playtime_forever': 0, 'playtime_2weeks': 0}, {'item_id': '38720', 'item_name': 'RUSH', 'playtime_forever': 0, 'playtime_2weeks': 0}, {'item_id': '63700', 'item_name': 'BIT.TRIP BEAT', 'playtime_forever': 0, 'playtime_2weeks': 0}, {'item_id': '280', 'item_name': 'Half-Life: Source', 'playtime_forever': 0, 'playtime_2weeks': 0}, {'item_id': '20920', 'item_name': 'The Witcher 2: Assassins of Kings Enhanced Edition', 'playtime_forever': 1343, 'playtime_2weeks': 0}, {'item_id': '105600', 'item_name': 'Terraria', 'playtime_forever': 772, 'playtime_2weeks': 0}, {'item_id': '98200', 'item_name': 'Frozen Synapse', 'playtime_forever': 9, 'playtime_2weeks': 0}, {'item_id': '4500', 'item_name': 'S.T.A.L.K.E.R.: Shadow of Chernobyl', 'playtime_forever': 0, 'playtime_2weeks': 0}, {'item_id': '4540', 'item_name': 'Titan Quest', 'playtime_forever': 3, 'playtime_2weeks': 0}, {'item_id': '4550', 'item_name': 'Titan Quest: Immortal Throne', 'playtime_forever': 76, 'playtime_2weeks': 0}, {'item_id': '9480', 'item_name': 'Saints Row 2', 'playtime_forever': 0, 'playtime_2weeks': 0}, {'item_id': '15620', 'item_name': 'Warhammer® 40,000™: Dawn of War® II', 'playtime_forever': 2085, 'playtime_2weeks': 0}, {'item_id': '20500', 'item_name': 'Red Faction: Guerrilla Steam Edition', 'playtime_forever': 0, 'playtime_2weeks': 0}, {'item_id': '20570', 'item_name': 'Warhammer® 40,000™: Dawn of War® II - Chaos Rising™', 'playtime_forever': 69, 'playtime_2weeks': 0}, {'item_id': '50620', 'item_name': 'Darksiders', 'playtime_forever': 101, 'playtime_2weeks': 0}, {'item_id': '55100', 'item_name': 'Homefront', 'playtime_forever': 51, 'playtime_2weeks': 0}, {'item_id': '55140', 'item_name': 'MX vs. ATV Reflex', 'playtime_forever': 0, 'playtime_2weeks': 0}, {'item_id': '56400', 'item_name': 'Warhammer® 40,000™: Dawn of War® II – Retribution™', 'playtime_forever': 678, 'playtime_2weeks': 0}, {'item_id': '475150', 'item_name': 'Titan Quest Anniversary Edition', 'playtime_forever': 0, 'playtime_2weeks': 0}, {'item_id': '96100', 'item_name': 'Defy Gravity', 'playtime_forever': 9, 'playtime_2weeks': 0}, {'item_id': '35450', 'item_name': 'Rising Storm/Red Orchestra 2 Multiplayer', 'playtime_forever': 14194, 'playtime_2weeks': 0}, {'item_id': '236830', 'item_name': 'Red Orchestra 2: Heroes of Stalingrad - Single Player', 'playtime_forever': 0, 'playtime_2weeks': 0}, {'item_id': '72850', 'item_name': 'The Elder Scrolls V: Skyrim', 'playtime_forever': 2512, 'playtime_2weeks': 0}, {'item_id': '107100', 'item_name': 'Bastion', 'playtime_forever': 640, 'playtime_2weeks': 0}, {'item_id': '57690', 'item_name': 'Tropico 4', 'playtime_forever': 1815, 'playtime_2weeks': 0}, {'item_id': '91310', 'item_name': 'Dead Island', 'playtime_forever': 2078, 'playtime_2weeks': 0}, {'item_id': '113200', 'item_name': 'The Binding of Isaac', 'playtime_forever': 1494, 'playtime_2weeks': 0}, {'item_id': '65800', 'item_name': 'Dungeon Defenders', 'playtime_forever': 130, 'playtime_2weeks': 0}, {'item_id': '9200', 'item_name': 'RAGE', 'playtime_forever': 653, 'playtime_2weeks': 0}, {'item_id': '41070', 'item_name': 'Serious Sam 3: BFE', 'playtime_forever': 716, 'playtime_2weeks': 0}, {'item_id': '48950', 'item_name': 'Greed Corp', 'playtime_forever': 72, 'playtime_2weeks': 0}, {'item_id': '92800', 'item_name': 'SpaceChem', 'playtime_forever': 262, 'playtime_2weeks': 0}, {'item_id': '104700', 'item_name': 'Super Monday Night Combat', 'playtime_forever': 44, 'playtime_2weeks': 0}, {'item_id': '203770', 'item_name': 'Crusader Kings II', 'playtime_forever': 18, 'playtime_2weeks': 0}, {'item_id': '203810', 'item_name': 'Dear Esther', 'playtime_forever': 86, 'playtime_2weeks': 0}, {'item_id': '110800', 'item_name': 'L.A. Noire', 'playtime_forever': 1204, 'playtime_2weeks': 0}, {'item_id': '207610', 'item_name': 'The Walking Dead', 'playtime_forever': 798, 'playtime_2weeks': 0}, {'item_id': '98300', 'item_name': 'Toy Soldiers', 'playtime_forever': 110, 'playtime_2weeks': 0}, {'item_id': '50300', 'item_name': 'Spec Ops: The Line', 'playtime_forever': 296, 'playtime_2weeks': 0}, {'item_id': '204300', 'item_name': 'Awesomenauts', 'playtime_forever': 0, 'playtime_2weeks': 0}, {'item_id': '1700', 'item_name': 'Arx Fatalis', 'playtime_forever': 0, 'playtime_2weeks': 0}, {'item_id': '205100', 'item_name': 'Dishonored', 'playtime_forever': 1429, 'playtime_2weeks': 0}, {'item_id': '211120', 'item_name': 'The Political Machine', 'playtime_forever': 1, 'playtime_2weeks': 0}, {'item_id': '730', 'item_name': 'Counter-Strike: Global Offensive', 'playtime_forever': 23532, 'playtime_2weeks': 0}, {'item_id': '49520', 'item_name': 'Borderlands 2', 'playtime_forever': 1303, 'playtime_2weeks': 0}, {'item_id': '200260', 'item_name': 'Batman: Arkham City GOTY', 'playtime_forever': 100, 'playtime_2weeks': 0}, {'item_id': '212680', 'item_name': 'FTL: Faster Than Light', 'playtime_forever': 500, 'playtime_2weeks': 0}, {'item_id': '200710', 'item_name': 'Torchlight II', 'playtime_forever': 459, 'playtime_2weeks': 0}, {'item_id': '219150', 'item_name': 'Hotline Miami', 'playtime_forever': 0, 'playtime_2weeks': 0}, {'item_id': '215510', 'item_name': 'Rocketbirds: Hardboiled Chicken', 'playtime_forever': 0, 'playtime_2weeks': 0}, {'item_id': '8870', 'item_name': 'BioShock Infinite', 'playtime_forever': 2084, 'playtime_2weeks': 0}, {'item_id': '200510', 'item_name': 'XCOM: Enemy Unknown', 'playtime_forever': 3478, 'playtime_2weeks': 0}, {'item_id': '220240', 'item_name': 'Far Cry® 3', 'playtime_forever': 182, 'playtime_2weeks': 0}, {'item_id': '218680', 'item_name': 'Scribblenauts Unlimited', 'playtime_forever': 0, 'playtime_2weeks': 0}, {'item_id': '228280', 'item_name': \"Baldur's Gate: Enhanced Edition\", 'playtime_forever': 905, 'playtime_2weeks': 0}, {'item_id': '212070', 'item_name': 'Star Conflict', 'playtime_forever': 0, 'playtime_2weeks': 0}, {'item_id': '218230', 'item_name': 'PlanetSide 2', 'playtime_forever': 51, 'playtime_2weeks': 0}, {'item_id': '236390', 'item_name': 'War Thunder', 'playtime_forever': 50, 'playtime_2weeks': 0}, {'item_id': '3483', 'item_name': 'Peggle Extreme', 'playtime_forever': 0, 'playtime_2weeks': 0}, {'item_id': '203160', 'item_name': 'Tomb Raider', 'playtime_forever': 0, 'playtime_2weeks': 0}, {'item_id': '227080', 'item_name': 'Papo & Yo', 'playtime_forever': 81, 'playtime_2weeks': 0}, {'item_id': '233450', 'item_name': 'Prison Architect', 'playtime_forever': 24, 'playtime_2weeks': 0}, {'item_id': '43160', 'item_name': 'Metro: Last Light', 'playtime_forever': 712, 'playtime_2weeks': 0}, {'item_id': '219740', 'item_name': \"Don't Starve\", 'playtime_forever': 139, 'playtime_2weeks': 0}, {'item_id': '322330', 'item_name': \"Don't Starve Together\", 'playtime_forever': 0, 'playtime_2weeks': 0}, {'item_id': '222730', 'item_name': 'Reus', 'playtime_forever': 319, 'playtime_2weeks': 0}, {'item_id': '241600', 'item_name': 'Rogue Legacy', 'playtime_forever': 73, 'playtime_2weeks': 0}, {'item_id': '238930', 'item_name': '7 Grand Steps, Step 1: What Ancients Begat', 'playtime_forever': 159, 'playtime_2weeks': 0}, {'item_id': '217140', 'item_name': 'Rise of the Triad', 'playtime_forever': 199, 'playtime_2weeks': 0}, {'item_id': '39140', 'item_name': 'FINAL FANTASY VII', 'playtime_forever': 2896, 'playtime_2weeks': 0}, {'item_id': '225080', 'item_name': 'Brothers - A Tale of Two Sons', 'playtime_forever': 0, 'playtime_2weeks': 0}, {'item_id': '239030', 'item_name': 'Papers, Please', 'playtime_forever': 194, 'playtime_2weeks': 0}, {'item_id': '248820', 'item_name': 'Risk of Rain', 'playtime_forever': 272, 'playtime_2weeks': 0}, {'item_id': '239350', 'item_name': 'Spelunky', 'playtime_forever': 458, 'playtime_2weeks': 0}, {'item_id': '218620', 'item_name': 'PAYDAY 2', 'playtime_forever': 574, 'playtime_2weeks': 0}, {'item_id': '206420', 'item_name': 'Saints Row IV', 'playtime_forever': 0, 'playtime_2weeks': 0}, {'item_id': '236850', 'item_name': 'Europa Universalis IV', 'playtime_forever': 89, 'playtime_2weeks': 0}, {'item_id': '47790', 'item_name': 'Medal of Honor(TM) Single Player', 'playtime_forever': 230, 'playtime_2weeks': 0}, {'item_id': '47830', 'item_name': 'Medal of Honor(TM) Multiplayer', 'playtime_forever': 0, 'playtime_2weeks': 0}, {'item_id': '250320', 'item_name': 'The Wolf Among Us', 'playtime_forever': 500, 'playtime_2weeks': 0}, {'item_id': '250900', 'item_name': 'The Binding of Isaac: Rebirth', 'playtime_forever': 329, 'playtime_2weeks': 0}, {'item_id': '204450', 'item_name': 'Call of Juarez Gunslinger', 'playtime_forever': 241, 'playtime_2weeks': 0}, {'item_id': '233270', 'item_name': 'Far Cry® 3 Blood Dragon', 'playtime_forever': 0, 'playtime_2weeks': 0}, {'item_id': '251990', 'item_name': 'Long Live The Queen', 'playtime_forever': 135, 'playtime_2weeks': 0}, {'item_id': '253980', 'item_name': 'Enclave', 'playtime_forever': 0, 'playtime_2weeks': 0}, {'item_id': '236450', 'item_name': 'PAC-MAN Championship Edition DX+', 'playtime_forever': 154, 'playtime_2weeks': 0}, {'item_id': '242050', 'item_name': \"Assassin's Creed IV Black Flag\", 'playtime_forever': 1377, 'playtime_2weeks': 0}, {'item_id': '257350', 'item_name': \"Baldur's Gate II: Enhanced Edition\", 'playtime_forever': 0, 'playtime_2weeks': 0}, {'item_id': '213670', 'item_name': 'South Park™: The Stick of Truth™', 'playtime_forever': 121, 'playtime_2weeks': 0}, {'item_id': '238010', 'item_name': \"Deus Ex: Human Revolution - Director's Cut\", 'playtime_forever': 2176, 'playtime_2weeks': 0}, {'item_id': '245470', 'item_name': 'Democracy 3', 'playtime_forever': 246, 'playtime_2weeks': 0}, {'item_id': '221910', 'item_name': 'The Stanley Parable', 'playtime_forever': 157, 'playtime_2weeks': 0}, {'item_id': '260230', 'item_name': 'Valiant Hearts: The Great War™ / Soldats Inconnus : Mémoires de la Grande Guerre™', 'playtime_forever': 467, 'playtime_2weeks': 0}, {'item_id': '238430', 'item_name': 'Contagion', 'playtime_forever': 77, 'playtime_2weeks': 0}, {'item_id': '261030', 'item_name': 'The Walking Dead: Season Two', 'playtime_forever': 567, 'playtime_2weeks': 0}, {'item_id': '261570', 'item_name': 'Ori and the Blind Forest', 'playtime_forever': 39, 'playtime_2weeks': 0}, {'item_id': '263980', 'item_name': 'Out There Somewhere', 'playtime_forever': 0, 'playtime_2weeks': 0}, {'item_id': '39150', 'item_name': 'FINAL FANTASY VIII', 'playtime_forever': 15, 'playtime_2weeks': 0}, {'item_id': '230230', 'item_name': 'Divinity: Original Sin (Classic)', 'playtime_forever': 522, 'playtime_2weeks': 0}, {'item_id': '373420', 'item_name': 'Divinity: Original Sin Enhanced Edition', 'playtime_forever': 0, 'playtime_2weeks': 0}, {'item_id': '232790', 'item_name': 'Broken Age', 'playtime_forever': 216, 'playtime_2weeks': 0}, {'item_id': '237990', 'item_name': 'The Banner Saga', 'playtime_forever': 19, 'playtime_2weeks': 0}, {'item_id': '273620', 'item_name': 'Freespace 2', 'playtime_forever': 848, 'playtime_2weeks': 0}, {'item_id': '222880', 'item_name': 'Insurgency', 'playtime_forever': 3031, 'playtime_2weeks': 0}, {'item_id': '225840', 'item_name': 'Sven Co-op', 'playtime_forever': 26, 'playtime_2weeks': 0}, {'item_id': '222900', 'item_name': 'Dead Island: Epidemic', 'playtime_forever': 0, 'playtime_2weeks': 0}, {'item_id': '280220', 'item_name': 'Creeper World 3: Arc Eternal', 'playtime_forever': 941, 'playtime_2weeks': 0}, {'item_id': '236430', 'item_name': 'DARK SOULS™ II', 'playtime_forever': 592, 'playtime_2weeks': 0}, {'item_id': '201810', 'item_name': 'Wolfenstein: The New Order', 'playtime_forever': 599, 'playtime_2weeks': 0}, {'item_id': '294860', 'item_name': 'Valkyria Chronicles™', 'playtime_forever': 1735, 'playtime_2weeks': 0}, {'item_id': '295690', 'item_name': 'PARTICLE MACE', 'playtime_forever': 0, 'playtime_2weeks': 0}, {'item_id': '238460', 'item_name': 'BattleBlock Theater', 'playtime_forever': 407, 'playtime_2weeks': 0}, {'item_id': '237930', 'item_name': 'Transistor', 'playtime_forever': 154, 'playtime_2weeks': 0}, {'item_id': '301480', 'item_name': 'GEARCRACK Arena', 'playtime_forever': 0, 'playtime_2weeks': 0}, {'item_id': '303390', 'item_name': 'Dead Bits', 'playtime_forever': 0, 'playtime_2weeks': 0}, {'item_id': '306660', 'item_name': 'Ultimate General: Gettysburg', 'playtime_forever': 1245, 'playtime_2weeks': 0}, {'item_id': '316790', 'item_name': 'Grim Fandango Remastered', 'playtime_forever': 42, 'playtime_2weeks': 0}, {'item_id': '318430', 'item_name': 'Squishy the Suicidal Pig', 'playtime_forever': 0, 'playtime_2weeks': 0}, {'item_id': '241930', 'item_name': 'Middle-earth: Shadow of Mordor', 'playtime_forever': 889, 'playtime_2weeks': 0}, {'item_id': '328080', 'item_name': 'Retro-Pixel Castles', 'playtime_forever': 5, 'playtime_2weeks': 0}, {'item_id': '282070', 'item_name': 'This War of Mine', 'playtime_forever': 3, 'playtime_2weeks': 0}, {'item_id': '333930', 'item_name': 'Dirty Bomb', 'playtime_forever': 2782, 'playtime_2weeks': 0}, {'item_id': '334120', 'item_name': 'Armikrog', 'playtime_forever': 109, 'playtime_2weeks': 0}, {'item_id': '257510', 'item_name': 'The Talos Principle', 'playtime_forever': 0, 'playtime_2weeks': 0}, {'item_id': '319630', 'item_name': 'Life Is Strange™', 'playtime_forever': 37, 'playtime_2weeks': 0}, {'item_id': '346010', 'item_name': 'Besiege', 'playtime_forever': 464, 'playtime_2weeks': 0}, {'item_id': '255710', 'item_name': 'Cities: Skylines', 'playtime_forever': 246, 'playtime_2weeks': 0}, {'item_id': '232090', 'item_name': 'Killing Floor 2', 'playtime_forever': 6494, 'playtime_2weeks': 0}, {'item_id': '232150', 'item_name': 'Killing Floor 2 - SDK', 'playtime_forever': 0, 'playtime_2weeks': 0}, {'item_id': '377160', 'item_name': 'Fallout 4', 'playtime_forever': 2001, 'playtime_2weeks': 0}, {'item_id': '340170', 'item_name': 'FINAL FANTASY TYPE-0 HD', 'playtime_forever': 170, 'playtime_2weeks': 0}, {'item_id': '391540', 'item_name': 'Undertale', 'playtime_forever': 395, 'playtime_2weeks': 0}, {'item_id': '396660', 'item_name': 'Tahira: Echoes of the Astral Empire', 'playtime_forever': 0, 'playtime_2weeks': 0}, {'item_id': '337000', 'item_name': 'Deus Ex: Mankind Divided™', 'playtime_forever': 1159, 'playtime_2weeks': 0}, {'item_id': '368230', 'item_name': 'Kingdom: Classic', 'playtime_forever': 83, 'playtime_2weeks': 0}, {'item_id': '496300', 'item_name': 'Kingdom: New Lands', 'playtime_forever': 0, 'playtime_2weeks': 0}, {'item_id': '231430', 'item_name': 'Company of Heroes 2', 'playtime_forever': 0, 'playtime_2weeks': 0}, {'item_id': '289130', 'item_name': 'Endless Legend', 'playtime_forever': 593, 'playtime_2weeks': 0}, {'item_id': '268500', 'item_name': 'XCOM 2', 'playtime_forever': 1495, 'playtime_2weeks': 0}, {'item_id': '461640', 'item_name': 'Sins Of The Demon RPG', 'playtime_forever': 0, 'playtime_2weeks': 0}, {'item_id': '379720', 'item_name': 'DOOM', 'playtime_forever': 793, 'playtime_2weeks': 0}, {'item_id': '273350', 'item_name': 'Evolve Stage 2', 'playtime_forever': 58, 'playtime_2weeks': 0}]\n"
     ]
    }
   ],
   "source": [
    "# Verificamos los elementos de las columnas de contenidos\n",
    "print(df_user_items['items'][0])"
   ]
  },
  {
   "cell_type": "code",
   "execution_count": 14,
   "metadata": {},
   "outputs": [],
   "source": [
    "# Buscamos valores utilizando funciones lambda \n",
    "df_user_items['playtime_forever'] = df_user_items['items'].apply(lambda x: x[0].get('playtime_forever') if len(x) > 0 else 0)\n",
    "df_user_items['playtime_2weeks'] = df_user_items['items'].apply(lambda x: x[0].get('playtime_2weeks') if len(x) > 0 else 0)\n",
    "df_user_items['item_name'] = df_user_items['items'].apply(lambda x: x[0].get('item_name') if len(x) > 0 else 0)\n",
    "df_user_items['item_id'] = df_user_items['items'].apply(lambda x: x[0].get('item_id') if len(x) > 0 else 0)\n",
    "df_user_items['playtime_forever'] = df_user_items['playtime_forever'].astype(int)\n",
    "df_user_items['playtime_2weeks'] = df_user_items['playtime_2weeks'].astype(int)"
   ]
  },
  {
   "cell_type": "code",
   "execution_count": 15,
   "metadata": {},
   "outputs": [
    {
     "name": "stdout",
     "output_type": "stream",
     "text": [
      "<class 'pandas.core.frame.DataFrame'>\n",
      "RangeIndex: 88310 entries, 0 to 88309\n",
      "Data columns (total 7 columns):\n",
      " #   Column            Non-Null Count  Dtype \n",
      "---  ------            --------------  ----- \n",
      " 0   user_id           88310 non-null  object\n",
      " 1   steam_id          88310 non-null  object\n",
      " 2   items             88310 non-null  object\n",
      " 3   playtime_forever  88310 non-null  int32 \n",
      " 4   playtime_2weeks   88310 non-null  int32 \n",
      " 5   item_name         88310 non-null  object\n",
      " 6   item_id           88310 non-null  object\n",
      "dtypes: int32(2), object(5)\n",
      "memory usage: 4.0+ MB\n"
     ]
    }
   ],
   "source": [
    "# Desplegamos informacion del DataFrame\n",
    "df_user_items.info()"
   ]
  },
  {
   "cell_type": "code",
   "execution_count": 16,
   "metadata": {},
   "outputs": [
    {
     "data": {
      "text/html": [
       "<div>\n",
       "<style scoped>\n",
       "    .dataframe tbody tr th:only-of-type {\n",
       "        vertical-align: middle;\n",
       "    }\n",
       "\n",
       "    .dataframe tbody tr th {\n",
       "        vertical-align: top;\n",
       "    }\n",
       "\n",
       "    .dataframe thead th {\n",
       "        text-align: right;\n",
       "    }\n",
       "</style>\n",
       "<table border=\"1\" class=\"dataframe\">\n",
       "  <thead>\n",
       "    <tr style=\"text-align: right;\">\n",
       "      <th></th>\n",
       "      <th>user_id</th>\n",
       "      <th>steam_id</th>\n",
       "      <th>items</th>\n",
       "      <th>playtime_forever</th>\n",
       "      <th>playtime_2weeks</th>\n",
       "      <th>item_name</th>\n",
       "      <th>item_id</th>\n",
       "    </tr>\n",
       "  </thead>\n",
       "  <tbody>\n",
       "    <tr>\n",
       "      <th>0</th>\n",
       "      <td>76561197970982479</td>\n",
       "      <td>76561197970982479</td>\n",
       "      <td>[{'item_id': '10', 'item_name': 'Counter-Strik...</td>\n",
       "      <td>6</td>\n",
       "      <td>0</td>\n",
       "      <td>Counter-Strike</td>\n",
       "      <td>10</td>\n",
       "    </tr>\n",
       "    <tr>\n",
       "      <th>1</th>\n",
       "      <td>js41637</td>\n",
       "      <td>76561198035864385</td>\n",
       "      <td>[{'item_id': '10', 'item_name': 'Counter-Strik...</td>\n",
       "      <td>0</td>\n",
       "      <td>0</td>\n",
       "      <td>Counter-Strike</td>\n",
       "      <td>10</td>\n",
       "    </tr>\n",
       "    <tr>\n",
       "      <th>2</th>\n",
       "      <td>evcentric</td>\n",
       "      <td>76561198007712555</td>\n",
       "      <td>[{'item_id': '1200', 'item_name': 'Red Orchest...</td>\n",
       "      <td>923</td>\n",
       "      <td>0</td>\n",
       "      <td>Red Orchestra: Ostfront 41-45</td>\n",
       "      <td>1200</td>\n",
       "    </tr>\n",
       "    <tr>\n",
       "      <th>3</th>\n",
       "      <td>Riot-Punch</td>\n",
       "      <td>76561197963445855</td>\n",
       "      <td>[{'item_id': '10', 'item_name': 'Counter-Strik...</td>\n",
       "      <td>0</td>\n",
       "      <td>0</td>\n",
       "      <td>Counter-Strike</td>\n",
       "      <td>10</td>\n",
       "    </tr>\n",
       "    <tr>\n",
       "      <th>4</th>\n",
       "      <td>doctr</td>\n",
       "      <td>76561198002099482</td>\n",
       "      <td>[{'item_id': '300', 'item_name': 'Day of Defea...</td>\n",
       "      <td>1131</td>\n",
       "      <td>0</td>\n",
       "      <td>Day of Defeat: Source</td>\n",
       "      <td>300</td>\n",
       "    </tr>\n",
       "    <tr>\n",
       "      <th>...</th>\n",
       "      <td>...</td>\n",
       "      <td>...</td>\n",
       "      <td>...</td>\n",
       "      <td>...</td>\n",
       "      <td>...</td>\n",
       "      <td>...</td>\n",
       "      <td>...</td>\n",
       "    </tr>\n",
       "    <tr>\n",
       "      <th>88305</th>\n",
       "      <td>76561198323066619</td>\n",
       "      <td>76561198323066619</td>\n",
       "      <td>[{'item_id': '413850', 'item_name': 'CS:GO Pla...</td>\n",
       "      <td>0</td>\n",
       "      <td>0</td>\n",
       "      <td>CS:GO Player Profiles</td>\n",
       "      <td>413850</td>\n",
       "    </tr>\n",
       "    <tr>\n",
       "      <th>88306</th>\n",
       "      <td>76561198326700687</td>\n",
       "      <td>76561198326700687</td>\n",
       "      <td>[{'item_id': '11020', 'item_name': 'TrackMania...</td>\n",
       "      <td>0</td>\n",
       "      <td>0</td>\n",
       "      <td>TrackMania Nations Forever</td>\n",
       "      <td>11020</td>\n",
       "    </tr>\n",
       "    <tr>\n",
       "      <th>88307</th>\n",
       "      <td>XxLaughingJackClown77xX</td>\n",
       "      <td>76561198328759259</td>\n",
       "      <td>[]</td>\n",
       "      <td>0</td>\n",
       "      <td>0</td>\n",
       "      <td>0</td>\n",
       "      <td>0</td>\n",
       "    </tr>\n",
       "    <tr>\n",
       "      <th>88308</th>\n",
       "      <td>76561198329548331</td>\n",
       "      <td>76561198329548331</td>\n",
       "      <td>[{'item_id': '304930', 'item_name': 'Unturned'...</td>\n",
       "      <td>677</td>\n",
       "      <td>677</td>\n",
       "      <td>Unturned</td>\n",
       "      <td>304930</td>\n",
       "    </tr>\n",
       "    <tr>\n",
       "      <th>88309</th>\n",
       "      <td>edward_tremethick</td>\n",
       "      <td>76561198331598578</td>\n",
       "      <td>[]</td>\n",
       "      <td>0</td>\n",
       "      <td>0</td>\n",
       "      <td>0</td>\n",
       "      <td>0</td>\n",
       "    </tr>\n",
       "  </tbody>\n",
       "</table>\n",
       "<p>88310 rows × 7 columns</p>\n",
       "</div>"
      ],
      "text/plain": [
       "                       user_id           steam_id  \\\n",
       "0            76561197970982479  76561197970982479   \n",
       "1                      js41637  76561198035864385   \n",
       "2                    evcentric  76561198007712555   \n",
       "3                   Riot-Punch  76561197963445855   \n",
       "4                        doctr  76561198002099482   \n",
       "...                        ...                ...   \n",
       "88305        76561198323066619  76561198323066619   \n",
       "88306        76561198326700687  76561198326700687   \n",
       "88307  XxLaughingJackClown77xX  76561198328759259   \n",
       "88308        76561198329548331  76561198329548331   \n",
       "88309        edward_tremethick  76561198331598578   \n",
       "\n",
       "                                                   items  playtime_forever  \\\n",
       "0      [{'item_id': '10', 'item_name': 'Counter-Strik...                 6   \n",
       "1      [{'item_id': '10', 'item_name': 'Counter-Strik...                 0   \n",
       "2      [{'item_id': '1200', 'item_name': 'Red Orchest...               923   \n",
       "3      [{'item_id': '10', 'item_name': 'Counter-Strik...                 0   \n",
       "4      [{'item_id': '300', 'item_name': 'Day of Defea...              1131   \n",
       "...                                                  ...               ...   \n",
       "88305  [{'item_id': '413850', 'item_name': 'CS:GO Pla...                 0   \n",
       "88306  [{'item_id': '11020', 'item_name': 'TrackMania...                 0   \n",
       "88307                                                 []                 0   \n",
       "88308  [{'item_id': '304930', 'item_name': 'Unturned'...               677   \n",
       "88309                                                 []                 0   \n",
       "\n",
       "       playtime_2weeks                      item_name item_id  \n",
       "0                    0                 Counter-Strike      10  \n",
       "1                    0                 Counter-Strike      10  \n",
       "2                    0  Red Orchestra: Ostfront 41-45    1200  \n",
       "3                    0                 Counter-Strike      10  \n",
       "4                    0          Day of Defeat: Source     300  \n",
       "...                ...                            ...     ...  \n",
       "88305                0          CS:GO Player Profiles  413850  \n",
       "88306                0     TrackMania Nations Forever   11020  \n",
       "88307                0                              0       0  \n",
       "88308              677                       Unturned  304930  \n",
       "88309                0                              0       0  \n",
       "\n",
       "[88310 rows x 7 columns]"
      ]
     },
     "execution_count": 16,
     "metadata": {},
     "output_type": "execute_result"
    }
   ],
   "source": [
    "# Desplegamos el DataFrame\n",
    "df_user_items"
   ]
  },
  {
   "cell_type": "code",
   "execution_count": 17,
   "metadata": {},
   "outputs": [],
   "source": [
    "# Buscamos valores nulos\n",
    "def val_integer(cadena):\n",
    "    try:\n",
    "        int(cadena)\n",
    "        return True\n",
    "    except (ValueError, OverflowError):\n",
    "        return False\n",
    "# Fila con valores nulos\n",
    "NaN_row = df_user_items[~df_user_items['user_id'].apply(val_integer)]\n",
    "# Eliminamos la fila\n",
    "df_user_items = df_user_items.drop(NaN_row.index)"
   ]
  },
  {
   "cell_type": "code",
   "execution_count": 18,
   "metadata": {},
   "outputs": [
    {
     "ename": "TypeError",
     "evalue": "'tuple' object is not callable",
     "output_type": "error",
     "traceback": [
      "\u001b[1;31m---------------------------------------------------------------------------\u001b[0m",
      "\u001b[1;31mTypeError\u001b[0m                                 Traceback (most recent call last)",
      "\u001b[1;32mc:\\Users\\Usuario\\Desktop\\P1_MLOPS_SoyHenry\\JupyterNotbooks\\ETL_australian_user_items.ipynb Cell 14\u001b[0m line \u001b[0;36m2\n\u001b[0;32m      <a href='vscode-notebook-cell:/c%3A/Users/Usuario/Desktop/P1_MLOPS_SoyHenry/JupyterNotbooks/ETL_australian_user_items.ipynb#X16sZmlsZQ%3D%3D?line=0'>1</a>\u001b[0m \u001b[39m# Desplegamos las dimenciones del DataFrame\u001b[39;00m\n\u001b[1;32m----> <a href='vscode-notebook-cell:/c%3A/Users/Usuario/Desktop/P1_MLOPS_SoyHenry/JupyterNotbooks/ETL_australian_user_items.ipynb#X16sZmlsZQ%3D%3D?line=1'>2</a>\u001b[0m df_user_items\u001b[39m.\u001b[39;49mshape()\n",
      "\u001b[1;31mTypeError\u001b[0m: 'tuple' object is not callable"
     ]
    }
   ],
   "source": [
    "# Desplegamos las dimenciones del DataFrame\n",
    "df_user_items.shape()\n",
    "df_user_items"
   ]
  },
  {
   "cell_type": "code",
   "execution_count": null,
   "metadata": {},
   "outputs": [],
   "source": [
    "# Renombrar todas las columnas \n",
    "df_user_items = df_user_items.rename(columns={'user_id': 'User_Id'})\n",
    "df_user_items = df_user_items.rename(columns={'steam_id': 'Steam_Id'})\n",
    "df_user_items = df_user_items.rename(columns={'items': 'Items'})\n",
    "df_user_items = df_user_items.rename(columns={'playtime_forever': 'Playtime_Forever'})\n",
    "df_user_items = df_user_items.rename(columns={'playtime_2weeks': 'Playtime_2Weeks'})\n",
    "df_user_items = df_user_items.rename(columns={'item_name': 'Item_Name'})\n",
    "df_user_items = df_user_items.rename(columns={'item_id': 'Item_Id'})\n",
    "df_user_items"
   ]
  },
  {
   "cell_type": "code",
   "execution_count": null,
   "metadata": {},
   "outputs": [],
   "source": [
    "# Desplegar tipos de dato de cada columna \n",
    "# Desplegar tipo de dato de la columna User_id\n",
    "data_type = df_user_items['User_Id'].dtype\n",
    "print(f'Tipo de dato de la columna 'data_type)\n",
    "\n",
    "# Desplegar tipo de dato de la columna Steam_Id\n",
    "data_type = df_user_items['Steam_Id'].dtype\n",
    "print(f'Tipo de dato de la columna 'data_type)\n",
    "\n",
    "# Desplegar tipo de dato de la columna Items\n",
    "data_type = df_user_items['Items'].dtype\n",
    "print(f'Tipo de dato de la columna 'data_type)\n",
    "\n",
    "# Desplegar tipo de dato de la columna Playtime_Forever\n",
    "data_type = df_user_items['Playtime_Forever'].dtype\n",
    "print(f'Tipo de dato de la columna 'data_type)\n",
    "\n",
    "# Desplegar tipo de dato de la columna Playtime_2Weeks\n",
    "data_type = df_user_items['Playtime_2Weeks'].dtype\n",
    "print(f'Tipo de dato de la columna 'data_type)\n",
    "\n",
    "# Desplegar tipo de dato de la columna Item_Name\n",
    "data_type = df_user_items['Item_Name'].dtype\n",
    "print(f'Tipo de dato de la columna 'data_type)\n",
    "\n",
    "# Desplegar tipo de dato de la columna Item_Id\n",
    "data_type = df_user_items['Item_Id'].dtype\n",
    "print(f'Tipo de dato de la columna 'data_type)"
   ]
  },
  {
   "cell_type": "code",
   "execution_count": null,
   "metadata": {},
   "outputs": [],
   "source": [
    "# Contamos y desplegamos la cantidad de valores nulos de la columna 'Item_Id'\n",
    "NaN_Item_Id = df_user_items['User_Id'.isnull().sum()]\n",
    "print('Cantidad de valores nulos en la columna \"User_Id\":', NaN_Item_Id)\n",
    "\n",
    "# Contamos y desplegamos la cantidad de valores nulos de la columna 'Item_Id'\n",
    "NaN_Steam_Id = df_user_items['Steam_Id'.isnull().sum()]\n",
    "print('Cantidad de valores nulos en la columna \"Steam_Id\":', NaN_Steam_Id)\n",
    "\n",
    "# Contamos y desplegamos la cantidad de valores nulos de la columna 'Item_Id'\n",
    "NaN_Items = df_user_items['Items'.isnull().sum()]\n",
    "print('Cantidad de valores nulos en la columna \"Items\":', NaN_Items)\n",
    "\n",
    "# Contamos y desplegamos la cantidad de valores nulos de la columna 'Item_Id'\n",
    "NaN_Playtime_Forever = df_user_items['Playtime_Forever'.isnull().sum()]\n",
    "print('Cantidad de valores nulos en la columna \"Playtime_Forever\":', NaN_Playtime_Forever)\n",
    "\n",
    "# Contamos y desplegamos la cantidad de valores nulos de la columna 'Item_Id'\n",
    "NaN_Playtime_2Weeks = df_user_items['Playtime_2Weeks'.isnull().sum()]\n",
    "print('Cantidad de valores nulos en la columna \"Playtime_2Weeks\":', NaN_Playtime_2Weeks)\n",
    "\n",
    "# Contamos y desplegamos la cantidad de valores nulos de la columna 'Item_Id'\n",
    "NaN_Item_Name = df_user_items['Item_Name'.isnull().sum()]\n",
    "print('Cantidad de valores nulos en la columna \"Item_Name\":', NaN_Item_Name)\n",
    "\n",
    "# Contamos y desplegamos la cantidad de valores nulos de la columna 'Item_Id'\n",
    "NaN_Item_Id = df_user_items['Item_Id'.isnull().sum()]\n",
    "print('Cantidad de valores nulos en la columna \"Item_Id\":', NaN_Item_Id)\n"
   ]
  },
  {
   "cell_type": "code",
   "execution_count": null,
   "metadata": {},
   "outputs": [],
   "source": [
    "# Renombramos la columna 'playtime_forever'\n",
    "df_user_items = df_user_items.rename(columns={'playtime_forever': 'Playtime_Forever'})"
   ]
  },
  {
   "cell_type": "code",
   "execution_count": null,
   "metadata": {},
   "outputs": [
    {
     "ename": "KeyError",
     "evalue": "'Playtime_Forever'",
     "output_type": "error",
     "traceback": [
      "\u001b[1;31m---------------------------------------------------------------------------\u001b[0m",
      "\u001b[1;31mKeyError\u001b[0m                                  Traceback (most recent call last)",
      "File \u001b[1;32mc:\\Users\\Usuario\\AppData\\Local\\Programs\\Python\\Python312\\Lib\\site-packages\\pandas\\core\\indexes\\base.py:3790\u001b[0m, in \u001b[0;36mIndex.get_loc\u001b[1;34m(self, key)\u001b[0m\n\u001b[0;32m   3789\u001b[0m \u001b[39mtry\u001b[39;00m:\n\u001b[1;32m-> 3790\u001b[0m     \u001b[39mreturn\u001b[39;00m \u001b[39mself\u001b[39;49m\u001b[39m.\u001b[39;49m_engine\u001b[39m.\u001b[39;49mget_loc(casted_key)\n\u001b[0;32m   3791\u001b[0m \u001b[39mexcept\u001b[39;00m \u001b[39mKeyError\u001b[39;00m \u001b[39mas\u001b[39;00m err:\n",
      "File \u001b[1;32mindex.pyx:152\u001b[0m, in \u001b[0;36mpandas._libs.index.IndexEngine.get_loc\u001b[1;34m()\u001b[0m\n",
      "File \u001b[1;32mindex.pyx:181\u001b[0m, in \u001b[0;36mpandas._libs.index.IndexEngine.get_loc\u001b[1;34m()\u001b[0m\n",
      "File \u001b[1;32mpandas\\_libs\\hashtable_class_helper.pxi:7080\u001b[0m, in \u001b[0;36mpandas._libs.hashtable.PyObjectHashTable.get_item\u001b[1;34m()\u001b[0m\n",
      "File \u001b[1;32mpandas\\_libs\\hashtable_class_helper.pxi:7088\u001b[0m, in \u001b[0;36mpandas._libs.hashtable.PyObjectHashTable.get_item\u001b[1;34m()\u001b[0m\n",
      "\u001b[1;31mKeyError\u001b[0m: 'Playtime_Forever'",
      "\nThe above exception was the direct cause of the following exception:\n",
      "\u001b[1;31mKeyError\u001b[0m                                  Traceback (most recent call last)",
      "\u001b[1;32mc:\\Users\\Usuario\\Desktop\\P1_MLOPS_SoyHenry\\JupyterNotbooks\\ETL.ipynb Cell 20\u001b[0m line \u001b[0;36m2\n\u001b[0;32m      <a href='vscode-notebook-cell:/c%3A/Users/Usuario/Desktop/P1_MLOPS_SoyHenry/JupyterNotbooks/ETL.ipynb#X26sZmlsZQ%3D%3D?line=0'>1</a>\u001b[0m \u001b[39m# Contamos los valores nulos en 'Playtime_Forever'\u001b[39;00m\n\u001b[1;32m----> <a href='vscode-notebook-cell:/c%3A/Users/Usuario/Desktop/P1_MLOPS_SoyHenry/JupyterNotbooks/ETL.ipynb#X26sZmlsZQ%3D%3D?line=1'>2</a>\u001b[0m NaN_Playtime_Forever \u001b[39m=\u001b[39m df_user_items[\u001b[39m'\u001b[39;49m\u001b[39mPlaytime_Forever\u001b[39;49m\u001b[39m'\u001b[39;49m]\u001b[39m.\u001b[39misnull()\u001b[39m.\u001b[39msum()\n\u001b[0;32m      <a href='vscode-notebook-cell:/c%3A/Users/Usuario/Desktop/P1_MLOPS_SoyHenry/JupyterNotbooks/ETL.ipynb#X26sZmlsZQ%3D%3D?line=2'>3</a>\u001b[0m \u001b[39mprint\u001b[39m(\u001b[39m'\u001b[39m\u001b[39mCantidad de valores nulos en la columna \u001b[39m\u001b[39m\"\u001b[39m\u001b[39mPlaytime_Forever\u001b[39m\u001b[39m\"\u001b[39m\u001b[39m:\u001b[39m\u001b[39m'\u001b[39m, NaN_Playtime_Forever)\n",
      "File \u001b[1;32mc:\\Users\\Usuario\\AppData\\Local\\Programs\\Python\\Python312\\Lib\\site-packages\\pandas\\core\\frame.py:3893\u001b[0m, in \u001b[0;36mDataFrame.__getitem__\u001b[1;34m(self, key)\u001b[0m\n\u001b[0;32m   3891\u001b[0m \u001b[39mif\u001b[39;00m \u001b[39mself\u001b[39m\u001b[39m.\u001b[39mcolumns\u001b[39m.\u001b[39mnlevels \u001b[39m>\u001b[39m \u001b[39m1\u001b[39m:\n\u001b[0;32m   3892\u001b[0m     \u001b[39mreturn\u001b[39;00m \u001b[39mself\u001b[39m\u001b[39m.\u001b[39m_getitem_multilevel(key)\n\u001b[1;32m-> 3893\u001b[0m indexer \u001b[39m=\u001b[39m \u001b[39mself\u001b[39;49m\u001b[39m.\u001b[39;49mcolumns\u001b[39m.\u001b[39;49mget_loc(key)\n\u001b[0;32m   3894\u001b[0m \u001b[39mif\u001b[39;00m is_integer(indexer):\n\u001b[0;32m   3895\u001b[0m     indexer \u001b[39m=\u001b[39m [indexer]\n",
      "File \u001b[1;32mc:\\Users\\Usuario\\AppData\\Local\\Programs\\Python\\Python312\\Lib\\site-packages\\pandas\\core\\indexes\\base.py:3797\u001b[0m, in \u001b[0;36mIndex.get_loc\u001b[1;34m(self, key)\u001b[0m\n\u001b[0;32m   3792\u001b[0m     \u001b[39mif\u001b[39;00m \u001b[39misinstance\u001b[39m(casted_key, \u001b[39mslice\u001b[39m) \u001b[39mor\u001b[39;00m (\n\u001b[0;32m   3793\u001b[0m         \u001b[39misinstance\u001b[39m(casted_key, abc\u001b[39m.\u001b[39mIterable)\n\u001b[0;32m   3794\u001b[0m         \u001b[39mand\u001b[39;00m \u001b[39many\u001b[39m(\u001b[39misinstance\u001b[39m(x, \u001b[39mslice\u001b[39m) \u001b[39mfor\u001b[39;00m x \u001b[39min\u001b[39;00m casted_key)\n\u001b[0;32m   3795\u001b[0m     ):\n\u001b[0;32m   3796\u001b[0m         \u001b[39mraise\u001b[39;00m InvalidIndexError(key)\n\u001b[1;32m-> 3797\u001b[0m     \u001b[39mraise\u001b[39;00m \u001b[39mKeyError\u001b[39;00m(key) \u001b[39mfrom\u001b[39;00m \u001b[39merr\u001b[39;00m\n\u001b[0;32m   3798\u001b[0m \u001b[39mexcept\u001b[39;00m \u001b[39mTypeError\u001b[39;00m:\n\u001b[0;32m   3799\u001b[0m     \u001b[39m# If we have a listlike key, _check_indexing_error will raise\u001b[39;00m\n\u001b[0;32m   3800\u001b[0m     \u001b[39m#  InvalidIndexError. Otherwise we fall through and re-raise\u001b[39;00m\n\u001b[0;32m   3801\u001b[0m     \u001b[39m#  the TypeError.\u001b[39;00m\n\u001b[0;32m   3802\u001b[0m     \u001b[39mself\u001b[39m\u001b[39m.\u001b[39m_check_indexing_error(key)\n",
      "\u001b[1;31mKeyError\u001b[0m: 'Playtime_Forever'"
     ]
    }
   ],
   "source": [
    "# Contamos los valores nulos en 'Playtime_Forever'\n",
    "NaN_Playtime_Forever = df_user_items['Playtime_Forever'].isnull().sum()\n",
    "print('Cantidad de valores nulos en la columna \"Playtime_Forever\":', NaN_Playtime_Forever)"
   ]
  },
  {
   "cell_type": "code",
   "execution_count": null,
   "metadata": {},
   "outputs": [],
   "source": [
    "# Renombrar columna 'item_name'\n",
    "df_user_items = df_user_items.rename(columns={'item_name': 'Item_Name'})"
   ]
  }
 ],
 "metadata": {
  "kernelspec": {
   "display_name": "Python 3 (ipykernel)",
   "language": "python",
   "name": "python3"
  },
  "language_info": {
   "codemirror_mode": {
    "name": "ipython",
    "version": 3
   },
   "file_extension": ".py",
   "mimetype": "text/x-python",
   "name": "python",
   "nbconvert_exporter": "python",
   "pygments_lexer": "ipython3",
   "version": "3.12.0"
  }
 },
 "nbformat": 4,
 "nbformat_minor": 2
}
